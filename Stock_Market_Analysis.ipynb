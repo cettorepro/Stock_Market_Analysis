{
  "cells": [
    {
      "cell_type": "markdown",
      "id": "436e671a-6a2b-47c6-891c-255925048f66",
      "metadata": {
        "id": "436e671a-6a2b-47c6-891c-255925048f66"
      },
      "source": [
        "# French Stock Market Analysis"
      ]
    },
    {
      "cell_type": "code",
      "execution_count": 8,
      "id": "7e87ee00-4b41-4225-809f-22f165733421",
      "metadata": {
        "colab": {
          "base_uri": "https://localhost:8080/"
        },
        "id": "7e87ee00-4b41-4225-809f-22f165733421",
        "outputId": "2dc1d06c-c423-4e45-ddb4-1e5a70174134"
      },
      "outputs": [
        {
          "output_type": "stream",
          "name": "stdout",
          "text": [
            "Requirement already satisfied: pyspark in /usr/local/lib/python3.11/dist-packages (3.5.1)\n",
            "Requirement already satisfied: py4j==0.10.9.7 in /usr/local/lib/python3.11/dist-packages (from pyspark) (0.10.9.7)\n"
          ]
        }
      ],
      "source": [
        "!pip install pyspark"
      ]
    },
    {
      "cell_type": "code",
      "execution_count": 9,
      "id": "f172c76b-0694-4405-b923-8d283acb8a5b",
      "metadata": {
        "id": "f172c76b-0694-4405-b923-8d283acb8a5b"
      },
      "outputs": [],
      "source": [
        "import pyspark\n",
        "from pyspark.sql import SparkSession"
      ]
    },
    {
      "cell_type": "code",
      "execution_count": 10,
      "id": "7cbb23cc-2d96-4439-a16c-192b7fd8279d",
      "metadata": {
        "id": "7cbb23cc-2d96-4439-a16c-192b7fd8279d"
      },
      "outputs": [],
      "source": [
        "spark = SparkSession.builder \\\n",
        "    .appName(\"French Stock Market Analysis\") \\\n",
        "    .getOrCreate()\n"
      ]
    },
    {
      "cell_type": "code",
      "execution_count": 11,
      "id": "879cd300-127e-4c38-8418-1c4be3dba758",
      "metadata": {
        "id": "879cd300-127e-4c38-8418-1c4be3dba758"
      },
      "outputs": [],
      "source": [
        "stocks = spark.read.csv(\"stock.csv\",header = True)"
      ]
    },
    {
      "cell_type": "code",
      "execution_count": 12,
      "id": "d9c77dfe-1943-4748-b8fd-9d39e4409f72",
      "metadata": {
        "colab": {
          "base_uri": "https://localhost:8080/"
        },
        "id": "d9c77dfe-1943-4748-b8fd-9d39e4409f72",
        "outputId": "73620f9a-22a7-42a3-d485-86286e288dc6"
      },
      "outputs": [
        {
          "output_type": "execute_result",
          "data": {
            "text/plain": [
              "602962"
            ]
          },
          "metadata": {},
          "execution_count": 12
        }
      ],
      "source": [
        "stocks.count()"
      ]
    },
    {
      "cell_type": "code",
      "execution_count": 13,
      "id": "67c269cc-802f-4944-8068-817bfd86bdc3",
      "metadata": {
        "colab": {
          "base_uri": "https://localhost:8080/"
        },
        "id": "67c269cc-802f-4944-8068-817bfd86bdc3",
        "outputId": "a41844cc-cdc3-4a95-ad6f-cea2b464a5d9"
      },
      "outputs": [
        {
          "output_type": "stream",
          "name": "stdout",
          "text": [
            "root\n",
            " |-- Date: string (nullable = true)\n",
            " |-- Open: string (nullable = true)\n",
            " |-- High: string (nullable = true)\n",
            " |-- Low: string (nullable = true)\n",
            " |-- Close: string (nullable = true)\n",
            " |-- Volume: string (nullable = true)\n",
            " |-- Dividends: string (nullable = true)\n",
            " |-- Stock Splits: string (nullable = true)\n",
            " |-- Company: string (nullable = true)\n",
            "\n"
          ]
        }
      ],
      "source": [
        "#Data types\n",
        "stocks.printSchema()"
      ]
    },
    {
      "cell_type": "code",
      "execution_count": 14,
      "id": "b732a7b6-db05-417c-b933-cec6f495c2ab",
      "metadata": {
        "colab": {
          "base_uri": "https://localhost:8080/"
        },
        "id": "b732a7b6-db05-417c-b933-cec6f495c2ab",
        "outputId": "c89d95fb-a1bd-4433-da08-62e3bf15f249"
      },
      "outputs": [
        {
          "output_type": "stream",
          "name": "stdout",
          "text": [
            "+-------+--------------------+----------------+----------------+\n",
            "|Company|                Date|            Open|           Close|\n",
            "+-------+--------------------+----------------+----------------+\n",
            "|   META|2018-11-29 00:00:...|135.919998168945|138.679992675781|\n",
            "|   META|2018-11-30 00:00:...|138.259994506836|140.610000610352|\n",
            "|   META|2018-12-03 00:00:...|             143|141.089996337891|\n",
            "|   META|2018-12-04 00:00:...|140.729995727539|137.929992675781|\n",
            "|   META|2018-12-06 00:00:...|133.820007324219|139.630004882813|\n",
            "|   META|2018-12-07 00:00:...|          139.25|137.419998168945|\n",
            "|   META|2018-12-10 00:00:...|139.600006103516|141.850006103516|\n",
            "|   META|2018-12-11 00:00:...|143.880004882813|142.080001831055|\n",
            "|   META|2018-12-12 00:00:...|143.080001831055|           144.5|\n",
            "|   META|2018-12-13 00:00:...|145.570007324219|145.009994506836|\n",
            "+-------+--------------------+----------------+----------------+\n",
            "only showing top 10 rows\n",
            "\n"
          ]
        }
      ],
      "source": [
        "#Selecting and filtering data\n",
        "stocks.select([\"Company\",\"Date\",\"Open\",\"Close\"]).filter((stocks.Company ==\"META\") | (stocks.Company ==\"APPL\")).show(10)\n",
        "#stocks.select([\"Company\",\"Date\",\"Open\",\"Close\"]).filter((stocks.Company isin([\"META\",\"APPL\"])) ).show(10)"
      ]
    },
    {
      "cell_type": "code",
      "execution_count": 15,
      "id": "8fcbaff8-1b82-4912-960f-53879a7de494",
      "metadata": {
        "id": "8fcbaff8-1b82-4912-960f-53879a7de494"
      },
      "outputs": [],
      "source": [
        "#UDF : User defined functions\n",
        "from pyspark.sql.functions import udf\n",
        "from pyspark.sql.types import TimestampType # conserve le fuseau horaire contrairement à Datetype()\n",
        "from dateutil.parser import parse"
      ]
    },
    {
      "cell_type": "code",
      "execution_count": 16,
      "id": "113a7e57-9f59-4e01-9b79-cf80a82efd91",
      "metadata": {
        "id": "113a7e57-9f59-4e01-9b79-cf80a82efd91"
      },
      "outputs": [],
      "source": [
        "date_parse = udf(lambda date: parse(date), TimestampType())"
      ]
    },
    {
      "cell_type": "code",
      "execution_count": 17,
      "id": "8616b1d8-34e7-44e0-9926-d44aeeca0a63",
      "metadata": {
        "id": "8616b1d8-34e7-44e0-9926-d44aeeca0a63"
      },
      "outputs": [],
      "source": [
        "stocks = stocks.withColumn(\"Date\",date_parse(stocks.Date))"
      ]
    },
    {
      "cell_type": "code",
      "execution_count": 18,
      "id": "68d972df-6d26-482f-b6c9-d145b2bc25d3",
      "metadata": {
        "id": "68d972df-6d26-482f-b6c9-d145b2bc25d3"
      },
      "outputs": [],
      "source": [
        "def num_parse(value):\n",
        "    if isinstance(value, int) or isinstance(value, float):\n",
        "        return value;\n",
        "    elif isinstance(value, str):\n",
        "        return float(value);"
      ]
    },
    {
      "cell_type": "code",
      "execution_count": 19,
      "id": "dcdaa96c-aea8-4162-b093-a5a9b2f2bc6a",
      "metadata": {
        "id": "dcdaa96c-aea8-4162-b093-a5a9b2f2bc6a"
      },
      "outputs": [],
      "source": [
        "from pyspark.sql.types import FloatType\n",
        "udf_num = udf(lambda num: num_parse(num),FloatType())\n",
        "stocks = (stocks.withColumn(\"Open\", udf_num(stocks.Open))\n",
        "        .withColumn(\"High\", udf_num(stocks.High))\n",
        "        .withColumn(\"Low\", udf_num(stocks.Low))\n",
        "        .withColumn(\"Close\", udf_num(stocks.Close)))"
      ]
    },
    {
      "cell_type": "code",
      "execution_count": 20,
      "id": "96a37bae-723b-4056-832d-000f6a42dd24",
      "metadata": {
        "colab": {
          "base_uri": "https://localhost:8080/"
        },
        "id": "96a37bae-723b-4056-832d-000f6a42dd24",
        "outputId": "1bc3831b-f97f-46ee-8816-f6af6fa4d699"
      },
      "outputs": [
        {
          "output_type": "stream",
          "name": "stdout",
          "text": [
            "root\n",
            " |-- Date: timestamp (nullable = true)\n",
            " |-- Open: float (nullable = true)\n",
            " |-- High: float (nullable = true)\n",
            " |-- Low: float (nullable = true)\n",
            " |-- Close: float (nullable = true)\n",
            " |-- Volume: string (nullable = true)\n",
            " |-- Dividends: string (nullable = true)\n",
            " |-- Stock Splits: string (nullable = true)\n",
            " |-- Company: string (nullable = true)\n",
            "\n"
          ]
        }
      ],
      "source": [
        "stocks.printSchema()"
      ]
    },
    {
      "cell_type": "code",
      "execution_count": 21,
      "id": "8e8843af-e655-4594-a120-7df7325328f7",
      "metadata": {
        "id": "8e8843af-e655-4594-a120-7df7325328f7"
      },
      "outputs": [],
      "source": [
        "from pyspark.sql.types import IntegerType\n",
        "\n",
        "parse_int= udf( lambda x: int(x),IntegerType())"
      ]
    },
    {
      "cell_type": "code",
      "execution_count": 22,
      "id": "ada628c8-545f-4c4e-91a7-438d39c826e5",
      "metadata": {
        "id": "ada628c8-545f-4c4e-91a7-438d39c826e5"
      },
      "outputs": [],
      "source": [
        "stocks = (stocks.withColumn(\"Volume\", parse_int(stocks.Volume)))"
      ]
    },
    {
      "cell_type": "code",
      "execution_count": 23,
      "id": "b7d20378-43d2-42f8-8856-cb3e35053012",
      "metadata": {
        "colab": {
          "base_uri": "https://localhost:8080/"
        },
        "id": "b7d20378-43d2-42f8-8856-cb3e35053012",
        "outputId": "b6b74bf3-67e7-48b8-e245-074a63e2a955"
      },
      "outputs": [
        {
          "output_type": "stream",
          "name": "stdout",
          "text": [
            "root\n",
            " |-- Date: timestamp (nullable = true)\n",
            " |-- Open: float (nullable = true)\n",
            " |-- High: float (nullable = true)\n",
            " |-- Low: float (nullable = true)\n",
            " |-- Close: float (nullable = true)\n",
            " |-- Volume: integer (nullable = true)\n",
            " |-- Dividends: string (nullable = true)\n",
            " |-- Stock Splits: string (nullable = true)\n",
            " |-- Company: string (nullable = true)\n",
            "\n"
          ]
        }
      ],
      "source": [
        "stocks.printSchema()"
      ]
    },
    {
      "cell_type": "code",
      "execution_count": 24,
      "id": "6d1ee4bd-8387-4701-bb40-8073a13f6dda",
      "metadata": {
        "id": "6d1ee4bd-8387-4701-bb40-8073a13f6dda"
      },
      "outputs": [],
      "source": [
        "#Stock Splits and Dividends had to be deleted"
      ]
    },
    {
      "cell_type": "code",
      "execution_count": 25,
      "id": "9dbe948b-505f-4550-b3df-8e75d76bd3b0",
      "metadata": {
        "id": "9dbe948b-505f-4550-b3df-8e75d76bd3b0"
      },
      "outputs": [],
      "source": [
        "cleaned_stocks = stocks.select([\"Company\",\"Date\",\"Open\",\"High\",\"Low\",\"Close\",\"Volume\"])"
      ]
    },
    {
      "cell_type": "code",
      "execution_count": 26,
      "id": "498a1ce2-51cb-4f93-8535-660c50d2124f",
      "metadata": {
        "id": "498a1ce2-51cb-4f93-8535-660c50d2124f"
      },
      "outputs": [],
      "source": [
        "from pyspark.sql.functions import *"
      ]
    },
    {
      "cell_type": "code",
      "execution_count": 27,
      "id": "97c9ffdb-985c-43f8-bb7c-d0d1c1ae21a6",
      "metadata": {
        "id": "97c9ffdb-985c-43f8-bb7c-d0d1c1ae21a6"
      },
      "outputs": [],
      "source": [
        "cleaned_stocks = cleaned_stocks.withColumn(\"Date\",to_date(cleaned_stocks.Date))"
      ]
    },
    {
      "cell_type": "code",
      "execution_count": 28,
      "id": "2192afc4-cb3b-4853-8fb8-54e175ff917c",
      "metadata": {
        "colab": {
          "base_uri": "https://localhost:8080/"
        },
        "id": "2192afc4-cb3b-4853-8fb8-54e175ff917c",
        "outputId": "45ec3d4f-b492-466a-9388-89c0865b03c4"
      },
      "outputs": [
        {
          "output_type": "stream",
          "name": "stdout",
          "text": [
            "+-------+------------------+------------------+------------------+------------------+--------------------+\n",
            "|summary|              Open|               Low|              High|             Close|              Volume|\n",
            "+-------+------------------+------------------+------------------+------------------+--------------------+\n",
            "|  count|            602962|            602962|            602962|            602962|              602962|\n",
            "|   mean|140.07471066013434|138.27631646033322|141.85349172877469|140.09520381512718|   5895601.184908833|\n",
            "| stddev|275.40172508018037|271.89527635964305|279.00319103885164|275.47796892551145|1.3815961832517391E7|\n",
            "|    min|         1.0524246|         1.0261139|         1.0611948|         1.0348841|                   0|\n",
            "|    max|           6490.26|            6405.0|            6525.0|           6509.35|          1123003300|\n",
            "+-------+------------------+------------------+------------------+------------------+--------------------+\n",
            "\n"
          ]
        }
      ],
      "source": [
        "#General Description of the data\n",
        "cleaned_stocks.describe([\"Open\",\"Low\",\"High\",\"Close\",\"Volume\"]).show()"
      ]
    },
    {
      "cell_type": "code",
      "execution_count": 29,
      "id": "cbaf0eb9-b48a-447d-a824-64b876b7306d",
      "metadata": {
        "colab": {
          "base_uri": "https://localhost:8080/"
        },
        "id": "cbaf0eb9-b48a-447d-a824-64b876b7306d",
        "outputId": "2ff28ca0-8eab-4152-d183-4bc5d815e325"
      },
      "outputs": [
        {
          "output_type": "execute_result",
          "data": {
            "text/plain": [
              "DataFrame[Company: string, max(Open): float]"
            ]
          },
          "metadata": {},
          "execution_count": 29
        }
      ],
      "source": [
        "#Maximum open stock price for each company. Price has been sorted from the most expensive to the cheapiest\n",
        "cleaned_stocks.groupBy(\"Company\").max(\"Open\").sort(\"max(Open)\", ascending=[False])"
      ]
    },
    {
      "cell_type": "code",
      "execution_count": 30,
      "id": "d5eee178-5e35-47b3-8555-648eb03d28be",
      "metadata": {
        "colab": {
          "base_uri": "https://localhost:8080/"
        },
        "id": "d5eee178-5e35-47b3-8555-648eb03d28be",
        "outputId": "c16d4846-7ac5-462b-c74d-2649bfe81c15"
      },
      "outputs": [
        {
          "output_type": "execute_result",
          "data": {
            "text/plain": [
              "DataFrame[Company: string, max(Open): float]"
            ]
          },
          "metadata": {},
          "execution_count": 30
        }
      ],
      "source": [
        "#Maximum open stock price for each company. Price has been sorted from the cheapiest the most expensive\n",
        "cleaned_stocks.groupBy(\"Company\").max(\"Open\").sort(\"max(Open)\", ascending=[True])"
      ]
    },
    {
      "cell_type": "code",
      "execution_count": 31,
      "id": "370fab89-abf7-4be6-88fe-99810f9b25cb",
      "metadata": {
        "colab": {
          "base_uri": "https://localhost:8080/"
        },
        "id": "370fab89-abf7-4be6-88fe-99810f9b25cb",
        "outputId": "3ac439f3-4ce4-4682-a206-53f5b2ac9b79"
      },
      "outputs": [
        {
          "output_type": "execute_result",
          "data": {
            "text/plain": [
              "DataFrame[Company: string, Max_Stock_Price: float]"
            ]
          },
          "metadata": {},
          "execution_count": 31
        }
      ],
      "source": [
        "cleaned_stocks.groupBy(\"Company\").max(\"Open\").withColumnRenamed(\"max(Open)\",\"Max_Stock_Price\")"
      ]
    },
    {
      "cell_type": "code",
      "execution_count": 32,
      "id": "ac497f1c-96cf-416e-a6a7-396b61a30d77",
      "metadata": {
        "colab": {
          "base_uri": "https://localhost:8080/"
        },
        "id": "ac497f1c-96cf-416e-a6a7-396b61a30d77",
        "outputId": "f2bab05d-4662-4cd9-9c0f-1b4c1f091d62"
      },
      "outputs": [
        {
          "output_type": "execute_result",
          "data": {
            "text/plain": [
              "DataFrame[Company: string, Max_Stock_Price: float]"
            ]
          },
          "metadata": {},
          "execution_count": 32
        }
      ],
      "source": [
        "import pyspark.sql.functions as func\n",
        "cleaned_stocks.groupBy(\"Company\").agg(func.max(\"Open\").alias(\"Max_Stock_Price\"))"
      ]
    },
    {
      "cell_type": "code",
      "execution_count": 33,
      "id": "1fc43a98-ac67-47e3-81bf-1c47a4c22a4f",
      "metadata": {
        "colab": {
          "base_uri": "https://localhost:8080/"
        },
        "id": "1fc43a98-ac67-47e3-81bf-1c47a4c22a4f",
        "outputId": "2b8d0d3d-602a-4f61-cd56-7109eb60fd81"
      },
      "outputs": [
        {
          "output_type": "stream",
          "name": "stdout",
          "text": [
            "+-------+---------------+------------+\n",
            "|Company|Max_Stock_Price|Total_Volume|\n",
            "+-------+---------------+------------+\n",
            "|   SPGI|      472.02524|  1855729493|\n",
            "|    GIS|      89.177826|  4982867036|\n",
            "|    LEN|      131.22336|  3557574424|\n",
            "|    RTX|     102.514465|  8520180807|\n",
            "|   HUBS|         852.08|   781645938|\n",
            "|    KKR|       81.83995|  4080642206|\n",
            "|    MMM|      183.76161|  4220433033|\n",
            "|    PPG|      174.85457|  1782453221|\n",
            "|    AXP|      192.61185|  4745736373|\n",
            "|     CI|      335.46735|  2488919705|\n",
            "|    CDW|      218.67297|  1104691716|\n",
            "|    WEC|      103.12054|  1846435431|\n",
            "|   BEKE|       76.19941|  7992445543|\n",
            "|     PM|      101.56231|  6429937595|\n",
            "|     FI|         129.74|  5031481516|\n",
            "+-------+---------------+------------+\n",
            "only showing top 15 rows\n",
            "\n"
          ]
        }
      ],
      "source": [
        "cleaned_stocks.groupBy(\"Company\").agg(\n",
        "    func.max(\"Open\").alias(\"Max_Stock_Price\"),\n",
        "    func.sum(\"Volume\").alias(\"Total_Volume\")\n",
        ").show(15)"
      ]
    },
    {
      "cell_type": "code",
      "execution_count": 34,
      "id": "a6f5f298-3cad-446e-a1c4-f663c9cdc25f",
      "metadata": {
        "id": "a6f5f298-3cad-446e-a1c4-f663c9cdc25f"
      },
      "outputs": [],
      "source": [
        "cleaned_stocks = (cleaned_stocks.withColumn(\"Day\",func.dayofmonth(cleaned_stocks.Date))\n",
        "                                 .withColumn(\"Month\",func.month(cleaned_stocks.Date))\n",
        "                                 .withColumn(\"Year\",func.year(cleaned_stocks.Date))\n",
        "                                 .withColumn(\"Week\",func.weekofyear(cleaned_stocks.Date))\n",
        "                              )"
      ]
    },
    {
      "cell_type": "code",
      "execution_count": 35,
      "id": "ce50a155-d30f-4bd8-888d-2c7f2d523cf7",
      "metadata": {
        "id": "ce50a155-d30f-4bd8-888d-2c7f2d523cf7"
      },
      "outputs": [],
      "source": [
        "# Show by year, the highest and lowest price for each stocks\n",
        "Byyear = cleaned_stocks.groupBy([\"Company\",\"Year\"]).agg(func.max(\"OPen\").alias(\"Year_High_Open\"), func.min(\"Open\").alias(\"Year_Low_Open\"))"
      ]
    },
    {
      "cell_type": "code",
      "execution_count": 36,
      "id": "3f03e3c8-3580-4b8a-aace-3d14c743e992",
      "metadata": {
        "colab": {
          "base_uri": "https://localhost:8080/"
        },
        "id": "3f03e3c8-3580-4b8a-aace-3d14c743e992",
        "outputId": "deac07da-78c7-4709-edf9-ae97d4c9edb7"
      },
      "outputs": [
        {
          "output_type": "stream",
          "name": "stdout",
          "text": [
            "+-------+----+--------------+-------------+\n",
            "|Company|Year|Year_High_Open|Year_Low_Open|\n",
            "+-------+----+--------------+-------------+\n",
            "|    BAC|2018|     25.729027|    20.312706|\n",
            "|     PH|2018|     162.07875|    130.67992|\n",
            "|     DG|2018|    107.714775|     94.84733|\n",
            "|    BSX|2020|         45.96|        26.74|\n",
            "|    MCK|2020|     182.81381|   116.187706|\n",
            "|    MET|2020|     46.132656|    21.022701|\n",
            "|   MPLX|2020|     17.714958|    5.4108133|\n",
            "|    PPG|2020|     141.64787|     67.59178|\n",
            "|    ADP|2021|     239.64296|    152.64398|\n",
            "|    KKR|2021|      81.83995|    36.790466|\n",
            "|    APO|2019|     42.198772|      19.7326|\n",
            "|    ADP|2018|     134.43118|    111.71671|\n",
            "|    GSK|2018|     32.493805|    29.153034|\n",
            "|    BNS|2018|      42.85455|      37.9717|\n",
            "|    CNC|2019|        68.045|        42.47|\n",
            "|   NVDA|2020|     146.67644|     49.86448|\n",
            "|    DIS|2020|        181.22|        84.49|\n",
            "|   MRVL|2020|     47.198006|     16.97224|\n",
            "|   ROST|2020|      118.9666|    57.565613|\n",
            "|   MRNA|2020|        177.66|        17.99|\n",
            "+-------+----+--------------+-------------+\n",
            "only showing top 20 rows\n",
            "\n"
          ]
        }
      ],
      "source": [
        "Byyear.show()"
      ]
    },
    {
      "cell_type": "code",
      "execution_count": 37,
      "id": "21ff9c14-a636-4f15-a590-15982899dc45",
      "metadata": {
        "id": "21ff9c14-a636-4f15-a590-15982899dc45"
      },
      "outputs": [],
      "source": [
        "Bymonth = cleaned_stocks.groupBy([\"Company\",\"Year\",\"month\"]).agg(func.max(\"OPen\").alias(\"Month_High_Open\"), func.min(\"Open\").alias(\"Month_Low_Open\"))\n",
        "Byweek = cleaned_stocks.groupBy([\"Company\",\"Year\",\"Week\"]).agg(func.max(\"OPen\").alias(\"Week_High_Open\"), func.min(\"Open\").alias(\"Week_Low_Open\"))"
      ]
    },
    {
      "cell_type": "code",
      "execution_count": 38,
      "id": "cc7f8c87-2416-4137-aced-04fbb9b21a38",
      "metadata": {
        "id": "cc7f8c87-2416-4137-aced-04fbb9b21a38"
      },
      "outputs": [],
      "source": [
        "Byweek = Byweek.withColumn(\"Spread_Open\",func.round(Byweek['Week_High_Open']-Byweek['Week_Low_Open'],2))"
      ]
    },
    {
      "cell_type": "code",
      "execution_count": 39,
      "id": "ba7d4baf-ad9c-4eb2-86f5-5cdba1d11fad",
      "metadata": {
        "id": "ba7d4baf-ad9c-4eb2-86f5-5cdba1d11fad"
      },
      "outputs": [],
      "source": [
        "historic_stocks = cleaned_stocks.join(Byyear,\n",
        "                                      (cleaned_stocks.Company==Byyear.Company) & (cleaned_stocks.Year==Byyear.Year),\n",
        "                                     'inner').drop(Byyear.Year,Byyear.Company)"
      ]
    },
    {
      "cell_type": "code",
      "execution_count": 40,
      "id": "1559b84b-b55e-42bd-a1f5-468161c2b02c",
      "metadata": {
        "colab": {
          "base_uri": "https://localhost:8080/"
        },
        "id": "1559b84b-b55e-42bd-a1f5-468161c2b02c",
        "outputId": "e444a834-0983-42fc-d9f8-b2478a093469"
      },
      "outputs": [
        {
          "output_type": "stream",
          "name": "stdout",
          "text": [
            "+----------+----------+----------+----------+----------+---------+---+-----+----+-------+----+--------------+-------------+\n",
            "|      Date|      Open|      High|       Low|     Close|   Volume|Day|Month|Week|Company|Year|Year_High_Open|Year_Low_Open|\n",
            "+----------+----------+----------+----------+----------+---------+---+-----+----+-------+----+--------------+-------------+\n",
            "|2018-11-29|  25.01014| 25.161016|  24.82376| 24.885887| 46824600| 29|   11|  48|    BAC|2018|     25.729027|    20.312706|\n",
            "|2018-11-29| 155.00827| 155.79898| 153.94171| 155.29329|  1018300| 29|   11|  48|     PH|2018|     162.07875|    130.67992|\n",
            "|2018-11-29| 104.94107| 106.99986|104.435905| 105.69405|  3208500| 29|   11|  48|     DG|2018|    107.714775|     94.84733|\n",
            "|2018-11-30| 24.797132| 25.409515| 24.735006| 25.205387| 64284600| 30|   11|  48|    BAC|2018|     25.729027|    20.312706|\n",
            "|2018-11-30| 155.01747| 158.69522| 154.04285| 158.18033|  1187900| 30|   11|  48|     PH|2018|     162.07875|    130.67992|\n",
            "|2018-11-30|105.436714| 106.40892| 104.93154|105.789375|  4153000| 30|   11|  48|     DG|2018|    107.714775|     94.84733|\n",
            "|2018-12-03| 25.729027| 25.773403| 25.169895| 25.329647| 59908700|  3|   12|  49|    BAC|2018|     25.729027|    20.312706|\n",
            "|2018-12-03| 162.07875| 164.77272|  159.3756| 161.06737|  1425600|  3|   12|  49|     PH|2018|     162.07875|    130.67992|\n",
            "|2018-12-03|107.714775| 107.84821| 105.12222| 106.46615|  3730000|  3|   12|  49|     DG|2018|    107.714775|     94.84733|\n",
            "|2018-12-04| 25.134386| 25.134386|  23.72324| 23.953993|103565700|  4|   12|  49|    BAC|2018|     25.729027|    20.312706|\n",
            "|2018-12-04| 160.26744|  160.9938|  152.7832| 153.05904|  1243000|  4|   12|  49|     PH|2018|     162.07875|    130.67992|\n",
            "|2018-12-04| 100.60432| 103.06342|  97.26831|  99.22225|  8786600|  4|   12|  49|     DG|2018|    107.714775|     94.84733|\n",
            "|2018-12-06|  23.40959| 23.489912| 22.784859| 23.454214|133294200|  6|   12|  49|    BAC|2018|     25.729027|    20.312706|\n",
            "|2018-12-06| 149.34454| 150.39272| 144.29683| 150.16286|  1185700|  6|   12|  49|     PH|2018|     162.07875|    130.67992|\n",
            "|2018-12-06|  98.25003| 101.82432| 97.516106| 101.68134|  4419800|  6|   12|  49|     DG|2018|    107.714775|     94.84733|\n",
            "|2018-12-07| 23.338188| 23.686255| 22.579586| 22.695608|107477600|  7|   12|  49|    BAC|2018|     25.729027|    20.312706|\n",
            "|2018-12-07| 150.53978|  151.9925| 143.61641| 144.38873|   951500|  7|   12|  49|     PH|2018|     162.07875|    130.67992|\n",
            "|2018-12-07| 101.27149|101.662285|  97.31595|  97.88783|  3789900|  7|   12|  49|     DG|2018|    107.714775|     94.84733|\n",
            "|2018-12-10| 22.472488|  22.51711| 21.678186| 22.097649|110166900| 10|   12|  50|    BAC|2018|     25.729027|    20.312706|\n",
            "|2018-12-10|  144.5726| 145.48283| 140.44432| 143.70833|   926200| 10|   12|  50|     PH|2018|     162.07875|    130.67992|\n",
            "+----------+----------+----------+----------+----------+---------+---+-----+----+-------+----+--------------+-------------+\n",
            "only showing top 20 rows\n",
            "\n"
          ]
        }
      ],
      "source": [
        "historic_stocks.show()"
      ]
    },
    {
      "cell_type": "code",
      "execution_count": 41,
      "id": "0d98b73a-4741-4e7c-9d0d-ecdaedc55ba3",
      "metadata": {
        "id": "0d98b73a-4741-4e7c-9d0d-ecdaedc55ba3"
      },
      "outputs": [],
      "source": [
        "cond = (historic_stocks.Company==Byweek.Company) & (historic_stocks.Year==Byweek.Year)"
      ]
    },
    {
      "cell_type": "code",
      "source": [
        "historic_stocks = historic_stocks.join(Byweek,cond,'inner').drop(historic_stocks.Company,Byweek.Year,Byweek.Week,Byweek.Spread_Open)"
      ],
      "metadata": {
        "id": "-iTt-GCSIOdK"
      },
      "id": "-iTt-GCSIOdK",
      "execution_count": 42,
      "outputs": []
    },
    {
      "cell_type": "code",
      "source": [
        "historic_stocks = historic_stocks.join(Bymonth,['Company','Year','Month'])"
      ],
      "metadata": {
        "id": "UwOXoT8FKAFw"
      },
      "id": "UwOXoT8FKAFw",
      "execution_count": 43,
      "outputs": []
    },
    {
      "cell_type": "code",
      "source": [
        "historic_stocks.columns"
      ],
      "metadata": {
        "colab": {
          "base_uri": "https://localhost:8080/"
        },
        "id": "d7sDEUL5MeRt",
        "outputId": "1e933dda-2109-4dfd-dfad-0a33c0b3e39c"
      },
      "id": "d7sDEUL5MeRt",
      "execution_count": 44,
      "outputs": [
        {
          "output_type": "execute_result",
          "data": {
            "text/plain": [
              "['Company',\n",
              " 'Year',\n",
              " 'Month',\n",
              " 'Date',\n",
              " 'Open',\n",
              " 'High',\n",
              " 'Low',\n",
              " 'Close',\n",
              " 'Volume',\n",
              " 'Day',\n",
              " 'Year_High_Open',\n",
              " 'Year_Low_Open',\n",
              " 'Week',\n",
              " 'Week_High_Open',\n",
              " 'Week_Low_Open',\n",
              " 'Month_High_Open',\n",
              " 'Month_Low_Open']"
            ]
          },
          "metadata": {},
          "execution_count": 44
        }
      ]
    },
    {
      "cell_type": "code",
      "source": [
        "final_stocks = historic_stocks.select([\n",
        "    'Company',\n",
        "    'Day',\n",
        "    'Month',\n",
        "    'Year',\n",
        "    'Week',\n",
        "    'Volume',\n",
        "    'Open',\n",
        "    'High',\n",
        "    'Low',\n",
        "    'Close',\n",
        "    'Month_High_Open',\n",
        "    'Month_Low_Open',\n",
        "    'Year_High_Open',\n",
        "    'Year_Low_Open'\n",
        "    ])"
      ],
      "metadata": {
        "id": "okPHcSy_Mhrt"
      },
      "id": "okPHcSy_Mhrt",
      "execution_count": 45,
      "outputs": []
    },
    {
      "cell_type": "code",
      "source": [
        "final_stocks.show()"
      ],
      "metadata": {
        "colab": {
          "base_uri": "https://localhost:8080/"
        },
        "id": "p25nMds6NYCc",
        "outputId": "3b54046a-5859-4619-bcf0-541fd897950c"
      },
      "id": "p25nMds6NYCc",
      "execution_count": 46,
      "outputs": [
        {
          "output_type": "stream",
          "name": "stdout",
          "text": [
            "+-------+---+-----+----+----+--------+---------+---------+----------+---------+---------------+--------------+--------------+-------------+\n",
            "|Company|Day|Month|Year|Week|  Volume|     Open|     High|       Low|    Close|Month_High_Open|Month_Low_Open|Year_High_Open|Year_Low_Open|\n",
            "+-------+---+-----+----+----+--------+---------+---------+----------+---------+---------------+--------------+--------------+-------------+\n",
            "|    BAC| 29|   11|2018|  52|46824600| 25.01014|25.161016|  24.82376|24.885887|       25.01014|     24.797132|     25.729027|    20.312706|\n",
            "|    BAC| 29|   11|2018|  50|46824600| 25.01014|25.161016|  24.82376|24.885887|       25.01014|     24.797132|     25.729027|    20.312706|\n",
            "|    BAC| 29|   11|2018|  48|46824600| 25.01014|25.161016|  24.82376|24.885887|       25.01014|     24.797132|     25.729027|    20.312706|\n",
            "|    BAC| 29|   11|2018|  51|46824600| 25.01014|25.161016|  24.82376|24.885887|       25.01014|     24.797132|     25.729027|    20.312706|\n",
            "|    BAC| 29|   11|2018|  49|46824600| 25.01014|25.161016|  24.82376|24.885887|       25.01014|     24.797132|     25.729027|    20.312706|\n",
            "|    BAC| 29|   11|2018|   1|46824600| 25.01014|25.161016|  24.82376|24.885887|       25.01014|     24.797132|     25.729027|    20.312706|\n",
            "|     PH| 29|   11|2018|  49| 1018300|155.00827|155.79898| 153.94171|155.29329|      155.01747|     155.00827|     162.07875|    130.67992|\n",
            "|     PH| 29|   11|2018|   1| 1018300|155.00827|155.79898| 153.94171|155.29329|      155.01747|     155.00827|     162.07875|    130.67992|\n",
            "|     PH| 29|   11|2018|  52| 1018300|155.00827|155.79898| 153.94171|155.29329|      155.01747|     155.00827|     162.07875|    130.67992|\n",
            "|     PH| 29|   11|2018|  50| 1018300|155.00827|155.79898| 153.94171|155.29329|      155.01747|     155.00827|     162.07875|    130.67992|\n",
            "|     PH| 29|   11|2018|  48| 1018300|155.00827|155.79898| 153.94171|155.29329|      155.01747|     155.00827|     162.07875|    130.67992|\n",
            "|     PH| 29|   11|2018|  51| 1018300|155.00827|155.79898| 153.94171|155.29329|      155.01747|     155.00827|     162.07875|    130.67992|\n",
            "|     DG| 29|   11|2018|  49| 3208500|104.94107|106.99986|104.435905|105.69405|     105.436714|     104.94107|    107.714775|     94.84733|\n",
            "|     DG| 29|   11|2018|  48| 3208500|104.94107|106.99986|104.435905|105.69405|     105.436714|     104.94107|    107.714775|     94.84733|\n",
            "|     DG| 29|   11|2018|  50| 3208500|104.94107|106.99986|104.435905|105.69405|     105.436714|     104.94107|    107.714775|     94.84733|\n",
            "|     DG| 29|   11|2018|  51| 3208500|104.94107|106.99986|104.435905|105.69405|     105.436714|     104.94107|    107.714775|     94.84733|\n",
            "|     DG| 29|   11|2018|   1| 3208500|104.94107|106.99986|104.435905|105.69405|     105.436714|     104.94107|    107.714775|     94.84733|\n",
            "|     DG| 29|   11|2018|  52| 3208500|104.94107|106.99986|104.435905|105.69405|     105.436714|     104.94107|    107.714775|     94.84733|\n",
            "|    BAC| 30|   11|2018|  52|64284600|24.797132|25.409515| 24.735006|25.205387|       25.01014|     24.797132|     25.729027|    20.312706|\n",
            "|    BAC| 30|   11|2018|  50|64284600|24.797132|25.409515| 24.735006|25.205387|       25.01014|     24.797132|     25.729027|    20.312706|\n",
            "+-------+---+-----+----+----+--------+---------+---------+----------+---------+---------------+--------------+--------------+-------------+\n",
            "only showing top 20 rows\n",
            "\n"
          ]
        }
      ]
    },
    {
      "cell_type": "code",
      "source": [
        "final_stocks.describe(['Year']).show()"
      ],
      "metadata": {
        "colab": {
          "base_uri": "https://localhost:8080/"
        },
        "id": "bNWRO0f9TUJt",
        "outputId": "58271e06-a3a6-45c6-e0c3-507cd221f641"
      },
      "id": "bNWRO0f9TUJt",
      "execution_count": 47,
      "outputs": [
        {
          "output_type": "stream",
          "name": "stdout",
          "text": [
            "+-------+------------------+\n",
            "|summary|              Year|\n",
            "+-------+------------------+\n",
            "|  count|          30514453|\n",
            "|   mean|2020.9485911151676|\n",
            "| stddev|1.3901376029038048|\n",
            "|    min|              2018|\n",
            "|    max|              2023|\n",
            "+-------+------------------+\n",
            "\n"
          ]
        }
      ]
    },
    {
      "cell_type": "code",
      "source": [
        "final_stocks.registerTempTable('stocks')"
      ],
      "metadata": {
        "colab": {
          "base_uri": "https://localhost:8080/"
        },
        "id": "ar7AxOTKNunt",
        "outputId": "d4d81f3d-4b4f-496b-d885-6711b3663869"
      },
      "id": "ar7AxOTKNunt",
      "execution_count": 48,
      "outputs": [
        {
          "output_type": "stream",
          "name": "stderr",
          "text": [
            "/usr/local/lib/python3.11/dist-packages/pyspark/sql/dataframe.py:329: FutureWarning: Deprecated in 2.0, use createOrReplaceTempView instead.\n",
            "  warnings.warn(\"Deprecated in 2.0, use createOrReplaceTempView instead.\", FutureWarning)\n"
          ]
        }
      ]
    },
    {
      "cell_type": "code",
      "source": [
        "spark.sql(\"\\\n",
        "Select * \\\n",
        "from stocks \\\n",
        "where Company ='MSFT' \\\n",
        "and Year == '2020' \\\n",
        "and Month == '10'\").show(5)"
      ],
      "metadata": {
        "colab": {
          "base_uri": "https://localhost:8080/"
        },
        "id": "0L1ROQVtR9Fk",
        "outputId": "b3eaad03-7f63-4d0a-c2fb-676e3bc15ba9"
      },
      "id": "0L1ROQVtR9Fk",
      "execution_count": 49,
      "outputs": [
        {
          "output_type": "stream",
          "name": "stdout",
          "text": [
            "+-------+---+-----+----+----+--------+--------+---------+---------+---------+---------------+--------------+--------------+-------------+\n",
            "|Company|Day|Month|Year|Week|  Volume|    Open|     High|      Low|    Close|Month_High_Open|Month_Low_Open|Year_High_Open|Year_Low_Open|\n",
            "+-------+---+-----+----+----+--------+--------+---------+---------+---------+---------------+--------------+--------------+-------------+\n",
            "|   MSFT|  1|   10|2020|  45|27158400|207.3636|207.84926|205.25587|206.36316|      216.60065|     197.66025|     222.69075|    132.38866|\n",
            "|   MSFT|  1|   10|2020|  14|27158400|207.3636|207.84926|205.25587|206.36316|      216.60065|     197.66025|     222.69075|    132.38866|\n",
            "|   MSFT|  1|   10|2020|  46|27158400|207.3636|207.84926|205.25587|206.36316|      216.60065|     197.66025|     222.69075|    132.38866|\n",
            "|   MSFT|  1|   10|2020|  15|27158400|207.3636|207.84926|205.25587|206.36316|      216.60065|     197.66025|     222.69075|    132.38866|\n",
            "|   MSFT|  1|   10|2020|  33|27158400|207.3636|207.84926|205.25587|206.36316|      216.60065|     197.66025|     222.69075|    132.38866|\n",
            "+-------+---+-----+----+----+--------+--------+---------+---------+---------+---------------+--------------+--------------+-------------+\n",
            "only showing top 5 rows\n",
            "\n"
          ]
        }
      ]
    },
    {
      "cell_type": "code",
      "source": [
        "snap = cleaned_stocks.select([\"Company\",\"Date\",\"Open\"])"
      ],
      "metadata": {
        "id": "j6672yZE-v63"
      },
      "id": "j6672yZE-v63",
      "execution_count": 55,
      "outputs": []
    },
    {
      "cell_type": "code",
      "source": [
        "from pyspark.sql.window import Window as win"
      ],
      "metadata": {
        "id": "yUwhAC29B5fg"
      },
      "id": "yUwhAC29B5fg",
      "execution_count": 52,
      "outputs": []
    },
    {
      "cell_type": "code",
      "source": [
        "diff_day = win.partitionBy(\"Company\").orderBy(\"Date\")"
      ],
      "metadata": {
        "id": "_ezg-dSMCMZ_"
      },
      "id": "_ezg-dSMCMZ_",
      "execution_count": 53,
      "outputs": []
    },
    {
      "cell_type": "code",
      "source": [
        "snap.withColumn(\"Previous_Day_Open\",func.lag(\"Open\",1).over(diff_day)).show()"
      ],
      "metadata": {
        "colab": {
          "base_uri": "https://localhost:8080/"
        },
        "id": "MmxXejmdCrcy",
        "outputId": "66785487-03e0-41b1-d72a-fc414d63e6fe"
      },
      "id": "MmxXejmdCrcy",
      "execution_count": 56,
      "outputs": [
        {
          "output_type": "stream",
          "name": "stdout",
          "text": [
            "+-------+----------+---------+-----------------+\n",
            "|Company|      Date|     Open|Previous_Day_Open|\n",
            "+-------+----------+---------+-----------------+\n",
            "|   AAPL|2018-11-29| 43.82976|             NULL|\n",
            "|   AAPL|2018-11-30| 43.26107|         43.82976|\n",
            "|   AAPL|2018-12-03| 44.26168|         43.26107|\n",
            "|   AAPL|2018-12-04|43.419445|         44.26168|\n",
            "|   AAPL|2018-12-06| 41.21428|        43.419445|\n",
            "|   AAPL|2018-12-07|41.629402|         41.21428|\n",
            "|   AAPL|2018-12-10|  39.5922|        41.629402|\n",
            "|   AAPL|2018-12-11| 41.19028|          39.5922|\n",
            "|   AAPL|2018-12-12|40.887936|         41.19028|\n",
            "|   AAPL|2018-12-13|40.909534|        40.887936|\n",
            "|   AAPL|2018-12-14|40.552002|        40.909534|\n",
            "|   AAPL|2018-12-17|39.700184|        40.552002|\n",
            "|   AAPL|2018-12-18|39.683372|        39.700184|\n",
            "|   AAPL|2018-12-19|39.832146|        39.683372|\n",
            "|   AAPL|2018-12-20|38.488407|        39.832146|\n",
            "|   AAPL|2018-12-21| 37.63898|        38.488407|\n",
            "|   AAPL|2018-12-24|35.548996|         37.63898|\n",
            "|   AAPL|2018-12-26|35.584984|        35.548996|\n",
            "|   AAPL|2018-12-27| 37.39424|        35.584984|\n",
            "|   AAPL|2018-12-28|37.792564|         37.39424|\n",
            "+-------+----------+---------+-----------------+\n",
            "only showing top 20 rows\n",
            "\n"
          ]
        }
      ]
    },
    {
      "cell_type": "markdown",
      "source": [
        "Calculate the average for each row from the past 50 days open."
      ],
      "metadata": {
        "id": "tvWREGyFFfh7"
      },
      "id": "tvWREGyFFfh7"
    },
    {
      "cell_type": "code",
      "source": [
        "avg_fift = win.partitionBy(\"Company\").orderBy(\"Date\").rowsBetween(-50,0)"
      ],
      "metadata": {
        "id": "hqEan4M9EQMh"
      },
      "id": "hqEan4M9EQMh",
      "execution_count": 58,
      "outputs": []
    },
    {
      "cell_type": "code",
      "source": [
        "(snap.withColumn('MA50',func.avg(\"Open\").over(avg_fift))\n",
        "    .withColumn('MA50', func.round('MA50',2))).show()"
      ],
      "metadata": {
        "colab": {
          "base_uri": "https://localhost:8080/"
        },
        "id": "PEVaH2M8FV85",
        "outputId": "6224096d-e7bd-4867-ec00-e86fbd3c2567"
      },
      "id": "PEVaH2M8FV85",
      "execution_count": 61,
      "outputs": [
        {
          "output_type": "stream",
          "name": "stdout",
          "text": [
            "+-------+----------+---------+-----+\n",
            "|Company|      Date|     Open| MA50|\n",
            "+-------+----------+---------+-----+\n",
            "|   AAPL|2018-11-29| 43.82976|43.83|\n",
            "|   AAPL|2018-11-30| 43.26107|43.55|\n",
            "|   AAPL|2018-12-03| 44.26168|43.78|\n",
            "|   AAPL|2018-12-04|43.419445|43.69|\n",
            "|   AAPL|2018-12-06| 41.21428| 43.2|\n",
            "|   AAPL|2018-12-07|41.629402|42.94|\n",
            "|   AAPL|2018-12-10|  39.5922|42.46|\n",
            "|   AAPL|2018-12-11| 41.19028| 42.3|\n",
            "|   AAPL|2018-12-12|40.887936|42.14|\n",
            "|   AAPL|2018-12-13|40.909534|42.02|\n",
            "|   AAPL|2018-12-14|40.552002|41.89|\n",
            "|   AAPL|2018-12-17|39.700184| 41.7|\n",
            "|   AAPL|2018-12-18|39.683372|41.55|\n",
            "|   AAPL|2018-12-19|39.832146|41.43|\n",
            "|   AAPL|2018-12-20|38.488407|41.23|\n",
            "|   AAPL|2018-12-21| 37.63898|41.01|\n",
            "|   AAPL|2018-12-24|35.548996|40.68|\n",
            "|   AAPL|2018-12-26|35.584984| 40.4|\n",
            "|   AAPL|2018-12-27| 37.39424|40.24|\n",
            "|   AAPL|2018-12-28|37.792564|40.12|\n",
            "+-------+----------+---------+-----+\n",
            "only showing top 20 rows\n",
            "\n"
          ]
        }
      ]
    },
    {
      "cell_type": "markdown",
      "source": [
        "For each stock, we ordered the open price from the highest to the lowest. We established a rank and took the top 5 to know when it happened"
      ],
      "metadata": {
        "id": "-8BpjjhEKfJs"
      },
      "id": "-8BpjjhEKfJs"
    },
    {
      "cell_type": "code",
      "source": [
        "stock_max = win.partitionBy(\"Company\").orderBy(snap.Open.desc())"
      ],
      "metadata": {
        "id": "IxtqnUVaGXRk"
      },
      "id": "IxtqnUVaGXRk",
      "execution_count": 63,
      "outputs": []
    },
    {
      "cell_type": "code",
      "source": [
        "snap.withColumn(\"Max_Open_Rank\",func.row_number().over(stock_max)).filter(\"Max_Open_Rank<=5\").show()"
      ],
      "metadata": {
        "colab": {
          "base_uri": "https://localhost:8080/"
        },
        "id": "46OnNndsJw5P",
        "outputId": "8273a632-9b29-483d-ef94-dbaa14968b8f"
      },
      "id": "46OnNndsJw5P",
      "execution_count": 66,
      "outputs": [
        {
          "output_type": "stream",
          "name": "stdout",
          "text": [
            "+-------+----------+---------+-------------+\n",
            "|Company|      Date|     Open|Max_Open_Rank|\n",
            "+-------+----------+---------+-------------+\n",
            "|      A|2021-09-07|176.66948|            1|\n",
            "|      A|2021-09-09|176.46252|            2|\n",
            "|      A|2021-09-10|175.13217|            3|\n",
            "|      A|2021-09-03|175.08292|            4|\n",
            "|      A|2021-09-13|175.07306|            5|\n",
            "|   AAPL|2023-08-01|195.71751|            1|\n",
            "|   AAPL|2023-07-31|  195.538|            2|\n",
            "|   AAPL|2023-07-27| 195.4981|            3|\n",
            "|   AAPL|2023-07-20|194.57057|            4|\n",
            "|   AAPL|2023-08-02|194.52069|            5|\n",
            "|   ABBV|2022-04-11|163.48375|            1|\n",
            "|   ABBV|2022-04-08|161.70775|            2|\n",
            "|   ABBV|2023-04-25|161.38751|            3|\n",
            "|   ABBV|2022-12-13|160.46742|            4|\n",
            "|   ABBV|2022-12-09| 160.2848|            5|\n",
            "|   ABEV|2019-07-30| 4.674537|            1|\n",
            "|   ABEV|2019-07-31| 4.588291|            2|\n",
            "|   ABEV|2019-08-01| 4.553793|            3|\n",
            "|   ABEV|2019-08-02| 4.553793|            4|\n",
            "|   ABEV|2019-07-29|4.5106697|            5|\n",
            "+-------+----------+---------+-------------+\n",
            "only showing top 20 rows\n",
            "\n"
          ]
        }
      ]
    },
    {
      "cell_type": "code",
      "source": [
        "stock_result1 = final_stocks\n",
        "result_Moving_Average50 = (snap.withColumn('MA50',func.avg(\"Open\").over(avg_fift))\n",
        "    .withColumn('MA50', func.round('MA50',2)))\n",
        "Rank_Top5_Open = snap.withColumn(\"Max_Open_Rank\",func.row_number().over(stock_max)).filter(\"Max_Open_Rank<=5\")"
      ],
      "metadata": {
        "id": "MGDM-mrHKODi"
      },
      "id": "MGDM-mrHKODi",
      "execution_count": 67,
      "outputs": []
    },
    {
      "cell_type": "code",
      "source": [
        "(stock_result1.write.option(\"header\",True)\n",
        "              .mode(\"overWrite\")\n",
        "              .parquet('stock_df'))\n",
        ""
      ],
      "metadata": {
        "id": "UuhJn4b6OR_U"
      },
      "id": "UuhJn4b6OR_U",
      "execution_count": 71,
      "outputs": []
    },
    {
      "cell_type": "code",
      "source": [
        "(result_Moving_Average50.write.option(\"Header\",True)\n",
        "                              .mode(\"overWrite\")\n",
        "                              .csv('Moving_Average50'))"
      ],
      "metadata": {
        "id": "3XLMt8lvP5XO"
      },
      "id": "3XLMt8lvP5XO",
      "execution_count": 73,
      "outputs": []
    }
  ],
  "metadata": {
    "kernelspec": {
      "display_name": "Python 3 (ipykernel)",
      "language": "python",
      "name": "python3"
    },
    "language_info": {
      "codemirror_mode": {
        "name": "ipython",
        "version": 3
      },
      "file_extension": ".py",
      "mimetype": "text/x-python",
      "name": "python",
      "nbconvert_exporter": "python",
      "pygments_lexer": "ipython3",
      "version": "3.11.13"
    },
    "colab": {
      "provenance": []
    }
  },
  "nbformat": 4,
  "nbformat_minor": 5
}